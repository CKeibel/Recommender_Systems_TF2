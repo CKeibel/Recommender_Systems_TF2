{
  "nbformat": 4,
  "nbformat_minor": 0,
  "metadata": {
    "colab": {
      "name": "recommender_system.ipynb",
      "provenance": [],
      "collapsed_sections": [],
      "toc_visible": true
    },
    "kernelspec": {
      "name": "python3",
      "display_name": "Python 3"
    },
    "accelerator": "GPU"
  },
  "cells": [
    {
      "cell_type": "markdown",
      "metadata": {
        "id": "dzT7AqhQwMVN"
      },
      "source": [
        "# Movie recommender"
      ]
    },
    {
      "cell_type": "code",
      "metadata": {
        "colab": {
          "base_uri": "https://localhost:8080/"
        },
        "id": "0umflJM6rZ3j",
        "outputId": "2f2536b4-84bb-49ac-a1da-9bdea0928b4d"
      },
      "source": [
        "# download data\r\n",
        "!wget -nc http://files.grouplens.org/datasets/movielens/ml-20m.zip"
      ],
      "execution_count": 1,
      "outputs": [
        {
          "output_type": "stream",
          "text": [
            "--2021-01-22 15:41:17--  http://files.grouplens.org/datasets/movielens/ml-20m.zip\n",
            "Resolving files.grouplens.org (files.grouplens.org)... 128.101.65.152\n",
            "Connecting to files.grouplens.org (files.grouplens.org)|128.101.65.152|:80... connected.\n",
            "HTTP request sent, awaiting response... 200 OK\n",
            "Length: 198702078 (189M) [application/zip]\n",
            "Saving to: ‘ml-20m.zip’\n",
            "\n",
            "ml-20m.zip          100%[===================>] 189.50M  98.5MB/s    in 1.9s    \n",
            "\n",
            "2021-01-22 15:41:19 (98.5 MB/s) - ‘ml-20m.zip’ saved [198702078/198702078]\n",
            "\n"
          ],
          "name": "stdout"
        }
      ]
    },
    {
      "cell_type": "code",
      "metadata": {
        "colab": {
          "base_uri": "https://localhost:8080/"
        },
        "id": "Iqe5doulwhur",
        "outputId": "396c0f17-68ca-4223-ae28-88a25a244c1b"
      },
      "source": [
        "# unzip data\r\n",
        "!unzip -n ml-20m.zip"
      ],
      "execution_count": 2,
      "outputs": [
        {
          "output_type": "stream",
          "text": [
            "Archive:  ml-20m.zip\n",
            "   creating: ml-20m/\n",
            "  inflating: ml-20m/genome-scores.csv  \n",
            "  inflating: ml-20m/genome-tags.csv  \n",
            "  inflating: ml-20m/links.csv        \n",
            "  inflating: ml-20m/movies.csv       \n",
            "  inflating: ml-20m/ratings.csv      \n",
            "  inflating: ml-20m/README.txt       \n",
            "  inflating: ml-20m/tags.csv         \n"
          ],
          "name": "stdout"
        }
      ]
    },
    {
      "cell_type": "code",
      "metadata": {
        "colab": {
          "base_uri": "https://localhost:8080/"
        },
        "id": "GdLU8f1DwvOE",
        "outputId": "83625e38-5fe4-44e9-887a-e21099f183b1"
      },
      "source": [
        "# list files\r\n",
        "!ls \"ml-20m\""
      ],
      "execution_count": 4,
      "outputs": [
        {
          "output_type": "stream",
          "text": [
            "genome-scores.csv  links.csv   ratings.csv  tags.csv\n",
            "genome-tags.csv    movies.csv  README.txt\n"
          ],
          "name": "stdout"
        }
      ]
    },
    {
      "cell_type": "code",
      "metadata": {
        "colab": {
          "base_uri": "https://localhost:8080/",
          "height": 195
        },
        "id": "B_YeytN4xI9w",
        "outputId": "d2085c79-277b-410f-b976-d3080f0fa19a"
      },
      "source": [
        "# load dataframe\r\n",
        "import pandas as pd\r\n",
        "\r\n",
        "df = pd.read_csv(\"ml-20m/ratings.csv\")\r\n",
        "df.head()"
      ],
      "execution_count": 6,
      "outputs": [
        {
          "output_type": "execute_result",
          "data": {
            "text/html": [
              "<div>\n",
              "<style scoped>\n",
              "    .dataframe tbody tr th:only-of-type {\n",
              "        vertical-align: middle;\n",
              "    }\n",
              "\n",
              "    .dataframe tbody tr th {\n",
              "        vertical-align: top;\n",
              "    }\n",
              "\n",
              "    .dataframe thead th {\n",
              "        text-align: right;\n",
              "    }\n",
              "</style>\n",
              "<table border=\"1\" class=\"dataframe\">\n",
              "  <thead>\n",
              "    <tr style=\"text-align: right;\">\n",
              "      <th></th>\n",
              "      <th>userId</th>\n",
              "      <th>movieId</th>\n",
              "      <th>rating</th>\n",
              "      <th>timestamp</th>\n",
              "    </tr>\n",
              "  </thead>\n",
              "  <tbody>\n",
              "    <tr>\n",
              "      <th>0</th>\n",
              "      <td>1</td>\n",
              "      <td>2</td>\n",
              "      <td>3.5</td>\n",
              "      <td>1112486027</td>\n",
              "    </tr>\n",
              "    <tr>\n",
              "      <th>1</th>\n",
              "      <td>1</td>\n",
              "      <td>29</td>\n",
              "      <td>3.5</td>\n",
              "      <td>1112484676</td>\n",
              "    </tr>\n",
              "    <tr>\n",
              "      <th>2</th>\n",
              "      <td>1</td>\n",
              "      <td>32</td>\n",
              "      <td>3.5</td>\n",
              "      <td>1112484819</td>\n",
              "    </tr>\n",
              "    <tr>\n",
              "      <th>3</th>\n",
              "      <td>1</td>\n",
              "      <td>47</td>\n",
              "      <td>3.5</td>\n",
              "      <td>1112484727</td>\n",
              "    </tr>\n",
              "    <tr>\n",
              "      <th>4</th>\n",
              "      <td>1</td>\n",
              "      <td>50</td>\n",
              "      <td>3.5</td>\n",
              "      <td>1112484580</td>\n",
              "    </tr>\n",
              "  </tbody>\n",
              "</table>\n",
              "</div>"
            ],
            "text/plain": [
              "   userId  movieId  rating   timestamp\n",
              "0       1        2     3.5  1112486027\n",
              "1       1       29     3.5  1112484676\n",
              "2       1       32     3.5  1112484819\n",
              "3       1       47     3.5  1112484727\n",
              "4       1       50     3.5  1112484580"
            ]
          },
          "metadata": {
            "tags": []
          },
          "execution_count": 6
        }
      ]
    },
    {
      "cell_type": "markdown",
      "metadata": {
        "id": "XYsc6D6_yMjZ"
      },
      "source": [
        "### Preprocessing"
      ]
    },
    {
      "cell_type": "code",
      "metadata": {
        "id": "PVxvFFzPyO7X"
      },
      "source": [
        "# userid space and movieid space have to in range 0 to n-1\r\n",
        "# we can't assume that this is the case\r\n",
        "df.userId = pd.Categorical(df.userId)\r\n",
        "df['new_user_id'] = df.userId.cat.codes"
      ],
      "execution_count": 7,
      "outputs": []
    },
    {
      "cell_type": "code",
      "metadata": {
        "id": "GeZtUL5ezkBA"
      },
      "source": [
        "df.movieId = pd.Categorical(df.movieId)\r\n",
        "df['new_movie_id'] = df.movieId.cat.codes"
      ],
      "execution_count": 12,
      "outputs": []
    },
    {
      "cell_type": "code",
      "metadata": {
        "id": "6Ke6JC-jz-om"
      },
      "source": [
        "# seperate data to NUMPY-ARRAYS (not pandas Series)\r\n",
        "user_ids = df['new_user_id'].values\r\n",
        "movie_ids = df['new_movie_id'].values\r\n",
        "ratings = df['rating'].values"
      ],
      "execution_count": 21,
      "outputs": []
    },
    {
      "cell_type": "code",
      "metadata": {
        "colab": {
          "base_uri": "https://localhost:8080/"
        },
        "id": "rd0WsoFg1CLF",
        "outputId": "6a7ff474-505b-4ed3-d4e7-85a0ea403798"
      },
      "source": [
        "# Get Number of users and movies\r\n",
        "U = len(user_ids)\r\n",
        "M = len(movie_ids)\r\n",
        "\r\n",
        "U,M"
      ],
      "execution_count": 22,
      "outputs": [
        {
          "output_type": "execute_result",
          "data": {
            "text/plain": [
              "(20000263, 20000263)"
            ]
          },
          "metadata": {
            "tags": []
          },
          "execution_count": 22
        }
      ]
    },
    {
      "cell_type": "code",
      "metadata": {
        "id": "Q9Bhzjik1UrV"
      },
      "source": [
        "# embedding dimension\r\n",
        "K = 10"
      ],
      "execution_count": 23,
      "outputs": []
    },
    {
      "cell_type": "markdown",
      "metadata": {
        "id": "7GyFdqIV1gli"
      },
      "source": [
        "### Neural Network"
      ]
    },
    {
      "cell_type": "code",
      "metadata": {
        "id": "z6yNsqbB1jI6"
      },
      "source": [
        "import tensorflow as tf\r\n",
        "from tensorflow.keras.layers import Input\r\n",
        "from tensorflow.keras.layers import Embedding\r\n",
        "from tensorflow.keras.layers import Flatten\r\n",
        "from tensorflow.keras.layers import Concatenate\r\n",
        "from tensorflow.keras.layers import Dense\r\n",
        "from tensorflow.keras.layers import Activation\r\n",
        "\r\n",
        "\"\"\" Inputs \"\"\"\r\n",
        "# User Input\r\n",
        "u_in = Input(shape=(1,))\r\n",
        "\r\n",
        "# Movies Input\r\n",
        "m_in = Input(shape=(1,))\r\n",
        "\r\n",
        "\"\"\" Embedding \"\"\"\r\n",
        "# User embedding\r\n",
        "u_emb = Embedding(U, K)(u_in) # output (num_samples, 1, K)\r\n",
        "\r\n",
        "# Movie embedding\r\n",
        "m_emb = Embedding(M, K)(m_in) # output (num_samples, 1, K)\r\n",
        "\r\n",
        "# Flatten Embeddings\r\n",
        "u_emb = Flatten()(u_emb) # output (num_samples, K)\r\n",
        "m_emb = Flatten()(m_emb) # output (num_samples, K)\r\n",
        "\r\n",
        "\"\"\" Conatenate \"\"\"\r\n",
        "x = Concatenate()([u_emb, m_emb]) # output (num_samples, 2*K)\r\n",
        "\r\n",
        "\"\"\" Feedforward Net \"\"\"\r\n",
        "x = Dense(1024)(x)\r\n",
        "x = Activation(\"relu\")(x)\r\n",
        "out = Dense(1)(x) # No activation, because we predict the rating"
      ],
      "execution_count": 34,
      "outputs": []
    },
    {
      "cell_type": "code",
      "metadata": {
        "id": "ySQOOsdT5YLp"
      },
      "source": [
        "from tensorflow.keras.optimizers import SGD\r\n",
        "from tensorflow.keras.models import Model\r\n",
        "\r\n",
        "# compiling\r\n",
        "model = Model(inputs=[u_in, m_in], outputs=out)\r\n",
        "model.compile(\r\n",
        "    loss=\"mse\",\r\n",
        "    optimizer=SGD(lr=0.08, momentum=0.9),\r\n",
        ")"
      ],
      "execution_count": 43,
      "outputs": []
    },
    {
      "cell_type": "markdown",
      "metadata": {
        "id": "kxOT-PlN7R_5"
      },
      "source": [
        "### Training"
      ]
    },
    {
      "cell_type": "code",
      "metadata": {
        "id": "hVB4Wqg37P71"
      },
      "source": [
        "from sklearn.utils import shuffle\r\n",
        "\r\n",
        "# splitting the data\r\n",
        "user_ids, movie_ids, ratings = shuffle(user_ids, movie_ids, ratings) # shuffe\r\n",
        "Ntrain = int(0.8*len(ratings)) # Ntrain is 80% of data\r\n",
        "\r\n",
        "# actual splotting\r\n",
        "train_user = user_ids[:Ntrain] # first 80% of users - [Start:End]\r\n",
        "train_movie = movie_ids[:Ntrain]\r\n",
        "train_rating = ratings[:Ntrain]\r\n",
        "\r\n",
        "test_user = user_ids[Ntrain:]\r\n",
        "test_movie = movie_ids[Ntrain:]\r\n",
        "test_rating = ratings[Ntrain:]"
      ],
      "execution_count": 38,
      "outputs": []
    },
    {
      "cell_type": "code",
      "metadata": {
        "id": "AbhZXkwt81Wy"
      },
      "source": [
        "# center the ratings\r\n",
        "avg_rating = train_rating.mean()\r\n",
        "train_rating = train_rating - avg_rating\r\n",
        "test_rating = test_rating - avg_rating"
      ],
      "execution_count": 40,
      "outputs": []
    },
    {
      "cell_type": "code",
      "metadata": {
        "colab": {
          "base_uri": "https://localhost:8080/"
        },
        "id": "F68WKCcU9Ou-",
        "outputId": "e72a5b16-9955-4d2e-93d9-b3b350856f94"
      },
      "source": [
        "hist = model.fit(\r\n",
        "  x=[train_user, train_movie],\r\n",
        "  y=train_rating,\r\n",
        "  epochs=25,\r\n",
        "  batch_size=1024,\r\n",
        "  verbose=1,\r\n",
        "  validation_data=([test_user, test_movie], test_rating),\r\n",
        ")"
      ],
      "execution_count": null,
      "outputs": [
        {
          "output_type": "stream",
          "text": [
            "Epoch 1/25\n",
            "10561/15626 [===================>..........] - ETA: 16s - loss: 0.6991"
          ],
          "name": "stdout"
        }
      ]
    }
  ]
}